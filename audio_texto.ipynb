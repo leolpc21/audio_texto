{
  "nbformat": 4,
  "nbformat_minor": 0,
  "metadata": {
    "colab": {
      "provenance": [],
      "toc_visible": true,
      "authorship_tag": "ABX9TyOAVU4WclRTS4diRQbSy2H9",
      "include_colab_link": true
    },
    "kernelspec": {
      "name": "python3",
      "display_name": "Python 3"
    },
    "language_info": {
      "name": "python"
    }
  },
  "cells": [
    {
      "cell_type": "markdown",
      "metadata": {
        "id": "view-in-github",
        "colab_type": "text"
      },
      "source": [
        "<a href=\"https://colab.research.google.com/github/leolpc21/voz_para_todos/blob/main/Voz_para_todos.ipynb\" target=\"_parent\"><img src=\"https://colab.research.google.com/assets/colab-badge.svg\" alt=\"Open In Colab\"/></a>"
      ]
    },
    {
      "cell_type": "code",
      "execution_count": 1,
      "metadata": {
        "id": "m6Yfwybd2TBr"
      },
      "outputs": [],
      "source": [
        "# Instala silenciosamente a biblioteca google-generativeai com a opção -U para atualizar para a versão mais recente.\n",
        "!pip install -q -U google-generativeai\n",
        "\n",
        "# Importa a biblioteca google.generativeai como genai para facilitar o uso.\n",
        "import google.generativeai as genai\n",
        "\n",
        "# Tenta pegar a chave de API do Google Colab (se estiver disponível)\n",
        "from google.colab import userdata\n",
        "GOOGLE_API_KEY=userdata.get('GOOGLE_API_KEY')\n",
        "\n",
        "# Configura a biblioteca google-generativeai com a chave de API obtida\n",
        "genai.configure(api_key=GOOGLE_API_KEY)"
      ]
    },
    {
      "cell_type": "code",
      "source": [
        "# Importa a biblioteca `files` do Google Colab para lidar com uploads de arquivos\n",
        "from google.colab import files\n",
        "\n",
        "# Simula o upload de um arquivo (substituir quando rodar o código)\n",
        "uploaded = files.upload()\n",
        "\n",
        "# Extrai o nome do arquivo da lista de uploads simulada\n",
        "nome_do_arquivo = list(uploaded.keys())[0]\n",
        "# O trecho acima pode causar erro se nenhum arquivo for enviado\n",
        "\n",
        "# Tenta fazer upload do arquivo\n",
        "your_file = genai.upload_file(path=nome_do_arquivo)"
      ],
      "metadata": {
        "id": "HrSqvc9FeC8G"
      },
      "execution_count": null,
      "outputs": []
    },
    {
      "cell_type": "code",
      "source": [
        "# Define a configuração de geração\n",
        "generation_config = {\n",
        "  'candidate_count': 1,  # Número de candidatos (textos gerados) a serem retornados\n",
        "  'temperature': 0.5,   # Nível de aleatoriedade na geração (0.0 = determinístico, 1.0 = mais aleatório)\n",
        "}\n",
        "\n",
        "# Define as configurações de segurança\n",
        "safety_settings = {\n",
        "  'HARASSMENT': 'BLOCK_NONE',  # Como lidar com assédio: 'BLOCK_ALL' para bloquear, 'BLOCK_NONE' para permitir\n",
        "  'HATE': 'BLOCK_NONE',        # Como lidar com discurso de ódio (similar ao assédio)\n",
        "  'SEXUAL': 'BLOCK_NONE',       # Como lidar com conteúdo sexualmente sugestivo\n",
        "  'DANGEROUS': 'BLOCK_NONE'     # Como lidar com conteúdo perigoso\n",
        "}\n",
        "\n",
        "# Cria um modelo generativo\n",
        "model = genai.GenerativeModel(\n",
        "  model_name='gemini-1.5-pro-latest',  # Nome do modelo generativo (\"gemini-1.5-pro-latest\")\n",
        "  generation_config=generation_config,  # Configuração de geração definida anteriormente\n",
        "  safety_settings=safety_settings     # Configurações de segurança definidas anteriormente\n",
        ")"
      ],
      "metadata": {
        "id": "1WkUrtAud5KZ"
      },
      "execution_count": 6,
      "outputs": []
    },
    {
      "cell_type": "code",
      "source": [
        "# Gera texto utilizando o modelo criado\n",
        "response = model.generate_content(['Transcreva o audio', your_file])\n",
        "\n",
        "# Importando bibliotecas para formatação (necessárias no Google Colab)\n",
        "import textwrap\n",
        "from IPython.display import display\n",
        "from IPython.display import Markdown\n",
        "\n",
        "# Função para converter texto em Markdown (melhorando visualização)\n",
        "def to_markdown(text):\n",
        "  # Substitui marcadores • por marcadores Markdown para listas\n",
        "  text = text.replace('•', '  *')\n",
        "  # Indenta o texto para melhor visualização\n",
        "  return Markdown(textwrap.indent(text, '> ', predicate=lambda _: True))\n",
        "\n",
        "# Imprimindo a resposta formatada\n",
        "for message in response:\n",
        "  # Converte o texto da resposta para Markdown e exibe\n",
        "  display(to_markdown(f'{message.text}'))"
      ],
      "metadata": {
        "id": "p7o5GVnQu5dv"
      },
      "execution_count": null,
      "outputs": []
    }
  ]
}
